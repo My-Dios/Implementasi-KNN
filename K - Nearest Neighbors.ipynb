{
 "cells": [
  {
   "cell_type": "code",
   "execution_count": 4,
   "metadata": {},
   "outputs": [],
   "source": [
    "# Import fungsi akar kuadrat dari modul math\n",
    "from math import sqrt"
   ]
  },
  {
   "cell_type": "code",
   "execution_count": 5,
   "metadata": {},
   "outputs": [],
   "source": [
    "# Membuat fungsi Algoritma Eucledian Distance\n",
    "def euclidean_distance(row1, row2):\n",
    "\tdistance = 0.0\n",
    "\tfor i in range(len(row1)-1):\n",
    "\t\tdistance += (row1[i] - row2[i])**2\n",
    "\treturn sqrt(distance)"
   ]
  },
  {
   "cell_type": "code",
   "execution_count": 6,
   "metadata": {},
   "outputs": [],
   "source": [
    "# Membuat fungsi get_neighbors untuk mendapatkan tetangga terdekat \n",
    "# dengan parameter train untuk dataset \n",
    "# test_row untuk dataset yang akan kita uji\n",
    "# num_neighbors untuk jumlah nilai K atau Jumlah tetangga yang nantinya akan menentukan berapa jumlah tetangganya\n",
    "def get_neighbors(train, test_row, num_neighbors):\n",
    "\tdistances = list()\n",
    "\tfor train_row in train:\n",
    "\t\tdist = euclidean_distance(test_row, train_row)\n",
    "\t\tdistances.append((train_row, dist))\n",
    "\tdistances.sort(key=lambda tup: tup[1])\n",
    "\tneighbors = list()\n",
    "\tfor i in range(num_neighbors):\n",
    "\t\tneighbors.append(distances[i][0])\n",
    "\treturn neighbors"
   ]
  },
  {
   "cell_type": "code",
   "execution_count": 13,
   "metadata": {},
   "outputs": [
    {
     "name": "stdout",
     "output_type": "stream",
     "text": [
      "[3.396561688, 4.400293529, 0]\n",
      "[3.06407232, 3.005305973, 0]\n",
      "[2.7810836, 2.550537003, 0]\n",
      "[1.465489372, 2.362125076, 0]\n",
      "[5.332441248, 2.088626775, 1]\n"
     ]
    }
   ],
   "source": [
    "# Kita coba dahulu fungsi yang kita buat sebelumnya dengan dataset random\n",
    "# Kita akan memanggil fungsi get_neighbors selanjutnya kita akan mengisi parameternya\n",
    "# Anda perhatikan fungsi get_neighbors yang ada di atas atau sebelumnya\n",
    "# untuk parameter train kita akan masukkan dataset(bisa dilihat di bawah)\n",
    "# untuk parameter test_row kita akan masukkan contoh dataset baris yang ke 2 dimulai dari 0 (dataset[2])\n",
    "# untuk parameter num_neighbors kita akan masukkan 5 untuk mengambil 5 nilai K atau 5 tetangga terdekat\n",
    "# dapat kita lihat hasilnya dibawah merupakan 5 baris tetangga terdekat dari baris dataset yang ke 2\n",
    "dataset = [[2.7810836,2.550537003,0],\n",
    "\t[1.465489372,2.362125076,0],\n",
    "\t[3.396561688,4.400293529,0],\n",
    "\t[1.38807019,1.850220317,0],\n",
    "\t[3.06407232,3.005305973,0],\n",
    "\t[7.627531214,2.759262235,1],\n",
    "\t[5.332441248,2.088626775,1],\n",
    "\t[6.922596716,1.77106367,1],\n",
    "\t[8.675418651,-0.242068655,1],\n",
    "\t[7.673756466,3.508563011,1]]\n",
    "neighbors = get_neighbors(dataset, dataset[2], 5)\n",
    "for neighbor in neighbors:\n",
    "\tprint(neighbor)"
   ]
  },
  {
   "cell_type": "code",
   "execution_count": 9,
   "metadata": {},
   "outputs": [],
   "source": [
    "# Membuat fungsi predict_classification digunakan untuk menentukan kategori klasifikasi\n",
    "def predict_classification(train, test_row, num_neighbors):\n",
    "\tneighbors = get_neighbors(train, test_row, num_neighbors)\n",
    "\toutput_values = [row[-1] for row in neighbors]\n",
    "\tprediction = max(set(output_values), key=output_values.count)\n",
    "\treturn prediction\n",
    " \n"
   ]
  },
  {
   "cell_type": "code",
   "execution_count": 15,
   "metadata": {},
   "outputs": [
    {
     "name": "stdout",
     "output_type": "stream",
     "text": [
      "Expected 0, Got 0.\n"
     ]
    }
   ],
   "source": [
    "# Setelah kita membuat fungsi2 sebelumnya sekarang kita akan mencobanya apakah sesuai dengan expetasi atau tidak\n",
    "# kita menggunakan dataset random yang dibawah ini\n",
    "# dataset dibawah ini merupakan bentuk pola dari X, Y, Kategori(0 dan 1)\n",
    "dataset = [[2.7810836,2.550537003,0],\n",
    "\t[1.465489372,2.362125076,0],\n",
    "\t[3.396561688,4.400293529,0],\n",
    "\t[1.38807019,1.850220317,0],\n",
    "\t[3.06407232,3.005305973,0],\n",
    "\t[7.627531214,2.759262235,1],\n",
    "\t[5.332441248,2.088626775,1],\n",
    "\t[6.922596716,1.77106367,1],\n",
    "\t[8.675418651,-0.242068655,1],\n",
    "\t[7.673756466,3.508563011,1]]\n",
    "\n",
    "# kita akan mencoba dengan dataset yang ke 2 yaitu X(3.396561688), Y(4.400293529), dan ketegori(0)\n",
    "# kita akan mencoba prediksinya apakah benar nilai kategori dataset yang ke 2 adalah 0? dengan kita ambil nilai K sebanyak 5\n",
    "# kita membuat atribute dengan memasukkan fungsi predict_classification \n",
    "# untuk parameter train kita akan masukkan dataset(bisa dilihat di atas)\n",
    "# untuk parameter test_row kita akan masukkan contoh dataset baris yang ke 2 dimulai dari 0 (dataset[2])\n",
    "# untuk parameter num_neighbors kita akan masukkan 5 untuk mengambil 5 nilai K atau 5 tetangga terdekat\n",
    "# dapat kita lihat hasilnya sesuai dengan expetasi yaitu kategorinya 0\n",
    "prediction = predict_classification(dataset, dataset[2], 5)\n",
    "print('Expected %d, Got %d.' % (dataset[2][-1], prediction))"
   ]
  },
  {
   "cell_type": "code",
   "execution_count": null,
   "metadata": {},
   "outputs": [],
   "source": []
  }
 ],
 "metadata": {
  "kernelspec": {
   "display_name": "Python 3",
   "language": "python",
   "name": "python3"
  },
  "language_info": {
   "codemirror_mode": {
    "name": "ipython",
    "version": 3
   },
   "file_extension": ".py",
   "mimetype": "text/x-python",
   "name": "python",
   "nbconvert_exporter": "python",
   "pygments_lexer": "ipython3",
   "version": "3.7.6"
  }
 },
 "nbformat": 4,
 "nbformat_minor": 4
}
