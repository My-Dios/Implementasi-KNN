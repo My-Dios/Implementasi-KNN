{
 "metadata": {
  "language_info": {
   "codemirror_mode": {
    "name": "ipython",
    "version": 3
   },
   "file_extension": ".py",
   "mimetype": "text/x-python",
   "name": "python",
   "nbconvert_exporter": "python",
   "pygments_lexer": "ipython3",
   "version": "3.7.6-final"
  },
  "orig_nbformat": 2,
  "kernelspec": {
   "name": "python3",
   "display_name": "Python 3",
   "language": "python"
  }
 },
 "nbformat": 4,
 "nbformat_minor": 2,
 "cells": [
  {
   "cell_type": "code",
   "execution_count": 1,
   "metadata": {},
   "outputs": [],
   "source": [
    "import pandas as pd"
   ]
  },
  {
   "cell_type": "code",
   "execution_count": 2,
   "metadata": {},
   "outputs": [
    {
     "output_type": "stream",
     "name": "stdout",
     "text": [
      "   tahun         nama_provinsi nama_kabupaten/kota   nama_kecamatan  \\\n0   2014  PROVINSI DKI JAKARTA  KAB.ADM.KEP.SERIBU  KEP. SERIBU UTR   \n1   2014  PROVINSI DKI JAKARTA  KAB.ADM.KEP.SERIBU  KEP. SERIBU UTR   \n2   2014  PROVINSI DKI JAKARTA  KAB.ADM.KEP.SERIBU  KEP. SERIBU UTR   \n3   2014  PROVINSI DKI JAKARTA  KAB.ADM.KEP.SERIBU  KEP. SERIBU SLT   \n4   2014  PROVINSI DKI JAKARTA  KAB.ADM.KEP.SERIBU  KEP. SERIBU SLT   \n5   2014  PROVINSI DKI JAKARTA  KAB.ADM.KEP.SERIBU  KEP. SERIBU SLT   \n6   2014  PROVINSI DKI JAKARTA       JAKARTA PUSAT           GAMBIR   \n7   2014  PROVINSI DKI JAKARTA       JAKARTA PUSAT           GAMBIR   \n8   2014  PROVINSI DKI JAKARTA       JAKARTA PUSAT           GAMBIR   \n9   2014  PROVINSI DKI JAKARTA       JAKARTA PUSAT           GAMBIR   \n\n   nama_kelurahan  belum/tidakbekerja  mengurus_rumah_tangga  \\\n0     P. PANGGANG                1508                   1475   \n1       P. KELAPA                1473                   1613   \n2      P. HARAPAN                 476                    564   \n3  P. UNTUNG JAWA                 526                    507   \n4       P. TIDUNG                1205                   1163   \n5         P. PARI                 587                    686   \n6          GAMBIR                 381                    564   \n7          CIDENG                2458                   3709   \n8    PETOJO UTARA                3171                   4366   \n9  PETOJO SELATAN                2459                   3443   \n\n   pelajar/mahasiswa  pensiunan  pegawai_negeri_sipil  ...  sopir  pialang  \\\n0               1603         21                   185  ...      0        0   \n1               1539          9                    65  ...      0        0   \n2                521          2                    30  ...      0        0   \n3                500         11                    39  ...      0        0   \n4               1160         14                   117  ...      0        0   \n5                722          2                    12  ...      0        0   \n6                780         77                    81  ...      4        0   \n7               4271        256                   186  ...     62        0   \n8               4892        119                    97  ...     76        0   \n9               3815        136                   169  ...     87        0   \n\n   paranormal  pedagang  perangkat_desa  kepala_desa  biarawati  wiraswasta  \\\n0           0      11.0               0            0          0         114   \n1           0       9.0               0            0          0         129   \n2           0       0.0               0            0          0          26   \n3           0      14.0               0            0          0         135   \n4           0      16.0               0            0          0         152   \n5           0       2.0               0            0          0          67   \n6           0      48.0               0            0          0         256   \n7           1     181.0               0            0          1        1080   \n8           0     283.0               0            1          1         991   \n9           1     119.0               0            0          0         930   \n\n   lainnya  hakim  \n0       24      0  \n1       10      0  \n2        3      0  \n3       25      0  \n4       14      0  \n5       32      0  \n6       27      0  \n7      201      0  \n8       78      0  \n9      134      1  \n\n[10 rows x 95 columns]\n"
     ]
    }
   ],
   "source": [
    "df_pure = pd.read_csv(\"F:\\Perkuliahan\\Mata Kuliah\\Semester 3\\Matematika Dasar 2\\Implementasi KNN\\Implementasi KNN pada Klasifikasi Data Penduduk DKI Jakarta berdasarkan Pekerjaan tahun 2004\\data-penduduk-dki-berdasarkan-pekerjaan-tahun-2014.csv\")\n",
    "\n",
    "print(df_pure.head(10))"
   ]
  },
  {
   "cell_type": "code",
   "execution_count": null,
   "metadata": {},
   "outputs": [],
   "source": []
  }
 ]
}